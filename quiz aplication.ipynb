{
 "cells": [
  {
   "cell_type": "code",
   "execution_count": 75,
   "id": "19a510f4",
   "metadata": {},
   "outputs": [],
   "source": [
    "from tkinter import*\n",
    "from tkinter.ttk import Radiobutton\n",
    "\n",
    "qstn={'questions':['1.How many colors in indian flag?','2.smallest state in india?','3.how many district in kerala?','4.when was the malabar kalapam?','5.where was the 2022 world cup conducted?'],'options':[[1,2,3,4],['kerala','goa','tamilnadu','asam'],[20,30,14,10],[1947,1921,1995,1857],['brazil','russai','qatar','spain']]}\n",
    "\n",
    "\n",
    "\n",
    " \n",
    "    \n",
    "\n",
    "    \n",
    "    \n",
    "\n",
    "window=Tk()\n",
    "window.title('QUIZ APPLICATION')\n",
    "window.geometry('300x700')\n",
    "\n",
    "lb1=Label(window,text=qstn['questions'][0])\n",
    "lb1.place(x=40,y=0)\n",
    "lb2=Label(window,text=qstn['questions'][1])\n",
    "lb2.place(x=40,y=110)\n",
    "lb3=Label(window,text=qstn['questions'][2])\n",
    "lb3.place(x=40,y=220)\n",
    "lb4=Label(window,text=qstn['questions'][3])\n",
    "lb4.place(x=40,y=330)\n",
    "lb5=Label(window,text=qstn['questions'][4])\n",
    "lb5.place(x=40,y=440)\n",
    "\n",
    "\n",
    "\n",
    "\n",
    "selected1=IntVar()\n",
    "rad11=Radiobutton(window,text=qstn['options'][0][0],value=1,variable=selected1)\n",
    "rad11.place(x=80,y=20)\n",
    "rad12=Radiobutton(window,text=qstn['options'][0][1],value=2,variable=selected1)\n",
    "rad12.place(x=80,y=40)\n",
    "rad13=Radiobutton(window,text=qstn['options'][0][2],value=3,variable=selected1)\n",
    "rad13.place(x=80,y=60)\n",
    "rad14=Radiobutton(window,text=qstn['options'][0][3],value=4,variable=selected1)\n",
    "rad14.place(x=80,y=80)\n",
    "\n",
    "selected2=StringVar()\n",
    "rad21=Radiobutton(window,text=qstn['options'][1][0],value='kerala',variable=selected2)\n",
    "rad21.place(x=80,y=130)\n",
    "rad22=Radiobutton(window,text=qstn['options'][1][1],value='goa',variable=selected2)\n",
    "rad22.place(x=80,y=150)\n",
    "rad23=Radiobutton(window,text=qstn['options'][1][2],value='tamilnadu',variable=selected2)\n",
    "rad23.place(x=80,y=170)\n",
    "rad24=Radiobutton(window,text=qstn['options'][1][3],value='asam',variable=selected2)\n",
    "rad24.place(x=80,y=190)\n",
    "\n",
    "selected3=IntVar()\n",
    "rad31=Radiobutton(window,text=qstn['options'][2][0],value=20,variable=selected3)\n",
    "rad31.place(x=80,y=240)\n",
    "rad32=Radiobutton(window,text=qstn['options'][2][1],value=30,variable=selected3)\n",
    "rad32.place(x=80,y=260)\n",
    "rad33=Radiobutton(window,text=qstn['options'][2][2],value=14,variable=selected3)\n",
    "rad33.place(x=80,y=280)\n",
    "rad34=Radiobutton(window,text=qstn['options'][2][3],value=10,variable=selected3)\n",
    "rad34.place(x=80,y=300)\n",
    "\n",
    "\n",
    "selected4=IntVar()\n",
    "rad41=Radiobutton(window,text=qstn['options'][3][0],value=1947,variable=selected4)\n",
    "rad41.place(x=80,y=350)\n",
    "rad42=Radiobutton(window,text=qstn['options'][3][1],value=1921,variable=selected4)\n",
    "rad42.place(x=80,y=370)\n",
    "rad43=Radiobutton(window,text=qstn['options'][3][2],value=1995,variable=selected4)\n",
    "rad43.place(x=80,y=390)\n",
    "rad44=Radiobutton(window,text=qstn['options'][3][3],value=1857,variable=selected4)\n",
    "rad44.place(x=80,y=410)\n",
    "\n",
    "selected5=StringVar()\n",
    "rad51=Radiobutton(window,text=qstn['options'][4][0],value='brazil',variable=selected5)\n",
    "rad51.place(x=80,y=460)\n",
    "rad52=Radiobutton(window,text=qstn['options'][4][1],value='russai',variable=selected5)\n",
    "rad52.place(x=80,y=480)\n",
    "rad53=Radiobutton(window,text=qstn['options'][4][2],value='qatar',variable=selected5)\n",
    "rad53.place(x=80,y=500)\n",
    "rad54=Radiobutton(window,text=qstn['options'][4][3],value='spain',variable=selected5)\n",
    "rad54.place(x=80,y=520)\n",
    "\n",
    "\n",
    "a=[3,'goa',14,1921,'qatar']\n",
    "\n",
    "def result():\n",
    "    try:\n",
    "        score=0\n",
    "        if a[0]==selected1.get():\n",
    "            score=score+1\n",
    "        if a[1]==selected2.get():\n",
    "            score=score+1\n",
    "        if a[2]==selected3.get():\n",
    "            score=score+1\n",
    "        if a[3]==selected4.get():\n",
    "            score=score+1\n",
    "        if a[4]==selected5.get():\n",
    "            score=score+1\n",
    "        entry.insert(0,score)\n",
    "    finally:\n",
    "        entry.delete(0, END)\n",
    "        entry.insert(0,score)\n",
    "\n",
    "\n",
    "\n",
    "\n",
    "\n",
    "\n",
    "\n",
    "\n",
    "\n",
    "\n",
    "bt1=Button(window,text='RESULT',bg='blue',fg='white',command=result)\n",
    "bt1.place(x=120,y=600)\n",
    "\n",
    "entry=Entry(window,width=15)\n",
    "entry.place(x=120,y=570)\n",
    "\n",
    "lb6=Label(window,text='THE SCORE IS')\n",
    "lb6.place(x=40,y=570)\n",
    "\n",
    "\n",
    "\n",
    "\n",
    "\n",
    " \n",
    "\n",
    "\n",
    "window.mainloop()"
   ]
  },
  {
   "cell_type": "code",
   "execution_count": null,
   "id": "1c42de32",
   "metadata": {},
   "outputs": [],
   "source": []
  },
  {
   "cell_type": "code",
   "execution_count": null,
   "id": "4c5a3aa1",
   "metadata": {},
   "outputs": [],
   "source": []
  },
  {
   "cell_type": "code",
   "execution_count": null,
   "id": "3092f858",
   "metadata": {},
   "outputs": [],
   "source": []
  },
  {
   "cell_type": "code",
   "execution_count": null,
   "id": "02ee473d",
   "metadata": {},
   "outputs": [],
   "source": []
  },
  {
   "cell_type": "code",
   "execution_count": null,
   "id": "0522c761",
   "metadata": {},
   "outputs": [],
   "source": []
  },
  {
   "cell_type": "code",
   "execution_count": null,
   "id": "cdf3159a",
   "metadata": {},
   "outputs": [],
   "source": []
  },
  {
   "cell_type": "code",
   "execution_count": null,
   "id": "43b4c87d",
   "metadata": {},
   "outputs": [],
   "source": [
    "bt1=Button(window,text='NEXT',bg='blue',fg='white')\n",
    "bt1.place(x=120,y=200)\n",
    "\n"
   ]
  },
  {
   "cell_type": "code",
   "execution_count": 5,
   "id": "d7de1da8",
   "metadata": {},
   "outputs": [
    {
     "name": "stdout",
     "output_type": "stream",
     "text": [
      "how many colors in indian flag:3\n",
      "answer is wrong\n"
     ]
    }
   ],
   "source": [
    "ans=input('how many colors in indian flag:')\n",
    "if ans==3:\n",
    "    print('correct')\n",
    "else:\n",
    "    print('answer is wrong')"
   ]
  },
  {
   "cell_type": "code",
   "execution_count": 10,
   "id": "d476a354",
   "metadata": {},
   "outputs": [
    {
     "data": {
      "text/plain": [
       "'smallest state in india'"
      ]
     },
     "execution_count": 10,
     "metadata": {},
     "output_type": "execute_result"
    }
   ],
   "source": [
    "import random\n",
    "q1={1:'smallest state in india',2:'kerala',3:'goa',4:'tamilnadu',5:'asam'}\n",
    "random.choice(q1)"
   ]
  },
  {
   "cell_type": "code",
   "execution_count": 33,
   "id": "2070b383",
   "metadata": {},
   "outputs": [
    {
     "data": {
      "text/plain": [
       "'How many stripes are there on the US flag?'"
      ]
     },
     "execution_count": 33,
     "metadata": {},
     "output_type": "execute_result"
    }
   ],
   "source": [
    "qstn=['How many time zones are there in Russia?','What is the national flower of Japan?','How many stripes are there on the US flag?','What’s the national animal of Australia?','How many days does it take for the Earth to orbit the Sun?']\n",
    "random.choice(qstn)"
   ]
  },
  {
   "cell_type": "code",
   "execution_count": 11,
   "id": "36ab662c",
   "metadata": {},
   "outputs": [
    {
     "data": {
      "text/plain": [
       "'How many colors in indian flag?'"
      ]
     },
     "execution_count": 11,
     "metadata": {},
     "output_type": "execute_result"
    }
   ],
   "source": [
    "qstn={'questions':['How many colors in indian flag?','smallest state in india?','how many district in kerala'],'options':[[1,2,3,4],['kerala','goa','tamilnadu','asam'],[20,30,15,10]]}\n",
    "qstn['questions'][0]"
   ]
  },
  {
   "cell_type": "code",
   "execution_count": 97,
   "id": "8251cbac",
   "metadata": {},
   "outputs": [
    {
     "data": {
      "text/plain": [
       "'goa'"
      ]
     },
     "execution_count": 97,
     "metadata": {},
     "output_type": "execute_result"
    }
   ],
   "source": [
    "s={1:3,2:'goa',3:14,4:1921,5:'qatar'}\n",
    "s[2]"
   ]
  },
  {
   "cell_type": "code",
   "execution_count": null,
   "id": "8195a996",
   "metadata": {},
   "outputs": [],
   "source": [
    "def result():\n",
    "    if selected==qstn['answer'][0]==qstn['answer'][1]==qstn['answer'][2]==qstn['answer'][3]==qstn['answer'][4]:\n",
    "        print('The score is 5')\n",
    "        \n",
    "    elif selected==qstn['answer'][0]==qstn['answer'][1]==qstn['answer'][2]==qstn['answer'][] or selected==s[1]==s[2]==s[3]==s[5] or selected==s[1]==s[2]==s[4]==s[5] or selected==s[1]==s[3]==s[4]==s[5] orselected==s[2]==s[3]==s[4]==s[5]:\n",
    "        print('The score is 4')\n",
    "    elif selected==s[1]==s[2]==s[3] or selected==s[1]==s[2]==s[3]==\n",
    "    \n",
    "    "
   ]
  }
 ],
 "metadata": {
  "kernelspec": {
   "display_name": "Python 3 (ipykernel)",
   "language": "python",
   "name": "python3"
  },
  "language_info": {
   "codemirror_mode": {
    "name": "ipython",
    "version": 3
   },
   "file_extension": ".py",
   "mimetype": "text/x-python",
   "name": "python",
   "nbconvert_exporter": "python",
   "pygments_lexer": "ipython3",
   "version": "3.10.9"
  }
 },
 "nbformat": 4,
 "nbformat_minor": 5
}
